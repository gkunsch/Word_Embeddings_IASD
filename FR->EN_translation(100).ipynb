{
 "cells": [
  {
   "cell_type": "markdown",
   "metadata": {},
   "source": [
    "# I. Import embeddings and useful functions"
   ]
  },
  {
   "cell_type": "code",
   "execution_count": 1,
   "metadata": {},
   "outputs": [],
   "source": [
    "%load_ext autoreload\n",
    "%autoreload 2"
   ]
  },
  {
   "cell_type": "code",
   "execution_count": 2,
   "metadata": {},
   "outputs": [],
   "source": [
    "from src.data_loading import load_data_from_path_fr_en, index_to_drop, normalize_matrix_by_row, reduce_matrix\n",
    "from src.optimisation_functions import gradient_descent, batch_gradient_descent\n",
    "from src.test_functions import get_nn_scores, test_translation"
   ]
  },
  {
   "cell_type": "code",
   "execution_count": 3,
   "metadata": {},
   "outputs": [],
   "source": [
    "import fasttext\n",
    "import numpy as np \n",
    "np.random.seed(42) #to fix randomness\n",
    "import matplotlib.pyplot as plt"
   ]
  },
  {
   "cell_type": "code",
   "execution_count": 4,
   "metadata": {},
   "outputs": [],
   "source": [
    "#import models: these embeddings works on all worlds\n",
    "target_dim = 100\n",
    "ft_en = fasttext.load_model('embeddings/cc.en.300.bin')\n",
    "ft_fr = fasttext.load_model('embeddings/cc.fr.300.bin')"
   ]
  },
  {
   "cell_type": "code",
   "execution_count": 5,
   "metadata": {},
   "outputs": [],
   "source": [
    "#change the size of the embedding\n",
    "input_matrix = ft_en.get_input_matrix()\n",
    "inp_reduced, proj = reduce_matrix(input_matrix, target_dim, None)\n",
    "ft_en.set_matrices(inp_reduced, ft_en.get_output_matrix())\n",
    "\n",
    "input_matrix = ft_fr.get_input_matrix()\n",
    "inp_reduced, proj = reduce_matrix(input_matrix, target_dim, None)\n",
    "ft_fr.set_matrices(inp_reduced, ft_fr.get_output_matrix())"
   ]
  },
  {
   "cell_type": "markdown",
   "metadata": {},
   "source": [
    "# II. Load data"
   ]
  },
  {
   "cell_type": "code",
   "execution_count": 6,
   "metadata": {},
   "outputs": [],
   "source": [
    "PATH_TRAIN = \"data/en-fr/en-fr.0-5000.txt\"\n",
    "PATH_TEST = \"data/en-fr/en-fr.5000-6500.txt\"\n",
    "\n",
    "words_train, X_train_small, Y_train_small = load_data_from_path_fr_en(PATH_TRAIN, ft_fr=ft_fr,ft_en=ft_en )\n",
    "words_test, X_test_small, Y_test_small = load_data_from_path_fr_en(PATH_TEST, ft_fr = ft_fr, ft_en=ft_en)\n",
    "\n",
    "words_train, X_train_small, Y_train_small = words_train[:-1, :], X_train_small[:-1, :], Y_train_small[:-1, :] #to get rid of last rows where value are none\n",
    "words_test, X_test_small, Y_test_small = words_test[:-1, :], X_test_small[:-1, :], Y_test_small[:-1, :] #to get rid of last rows where value are none\n",
    "\n",
    "#some embeddings don't work : let to 0, we will get rid of them because: \n",
    "#- either the embedding don't work for an unknown reason (related to the training of the embedding)\n",
    "#- either the data in .txt is not treated, and represent unexisting words\n",
    "\n",
    "X_index_to_get_rid_train = index_to_drop(X_train_small)\n",
    "Y_index_to_get_rid_train = index_to_drop(Y_train_small)\n",
    "index_to_get_rid_train = np.unique(list(X_index_to_get_rid_train) + list(Y_index_to_get_rid_train))\n",
    "words_train, X_train_small, Y_train_small = np.delete(words_train, index_to_get_rid_train, axis=0), np.delete(X_train_small, index_to_get_rid_train, axis=0), np.delete(Y_train_small, index_to_get_rid_train, axis=0)\n",
    "\n",
    "X_index_to_get_rid_test = index_to_drop(X_test_small)\n",
    "Y_index_to_get_rid_test = index_to_drop(Y_test_small)\n",
    "index_to_get_rid_test = np.unique(list(X_index_to_get_rid_test) + list(Y_index_to_get_rid_test))\n",
    "words_test, X_test_small, Y_test_small = np.delete(words_test, index_to_get_rid_test, axis=0), np.delete(X_test_small, index_to_get_rid_test, axis=0), np.delete(Y_test_small, index_to_get_rid_test, axis=0) \n"
   ]
  },
  {
   "cell_type": "code",
   "execution_count": 7,
   "metadata": {},
   "outputs": [],
   "source": [
    "X_train_small_normalized, Y_train_small_normalized = normalize_matrix_by_row(X_train_small), normalize_matrix_by_row(Y_train_small) \n",
    "X_test_small_normalized, Y_test_small_normalized = normalize_matrix_by_row(X_test_small), normalize_matrix_by_row(Y_test_small)"
   ]
  },
  {
   "cell_type": "code",
   "execution_count": 8,
   "metadata": {},
   "outputs": [],
   "source": [
    "#for testing various numerical treatments\n",
    "words_test_full=  np.concatenate((words_test, words_train))\n",
    "Y_test_full = np.vstack((Y_test_small, Y_train_small))\n",
    "Y_test_full_normalized = np.vstack((Y_test_small_normalized, Y_train_small_normalized))"
   ]
  },
  {
   "cell_type": "markdown",
   "metadata": {},
   "source": [
    "# III. Numerical Treatment"
   ]
  },
  {
   "cell_type": "markdown",
   "metadata": {},
   "source": [
    "### 1. Gradient descent with Euler distance and no constraints (GD)"
   ]
  },
  {
   "cell_type": "code",
   "execution_count": 9,
   "metadata": {},
   "outputs": [
    {
     "data": {
      "image/png": "[encoded data removed]",
      "text/plain": [
       "<Figure size 640x480 with 1 Axes>"
      ]
     },
     "metadata": {},
     "output_type": "display_data"
    }
   ],
   "source": [
    "nb_of_iterations = 2000\n",
    "step_size = 1\n",
    "\n",
    "W_opt_full_gd,iteration,loss_function_train_array_full_gd, loss_function_test_array_full_gd  = gradient_descent(X_train_small,Y_train_small,X_test_small, Y_test_small, nb_of_iterations, step_size)\n",
    "\n",
    "plt.plot(iteration, loss_function_train_array_full_gd, label = \"train RMSE\")\n",
    "plt.plot(iteration, loss_function_test_array_full_gd, label = \"test RMSE\")\n",
    "plt.xlabel(\"iteration\", rotation=0, fontsize=18)\n",
    "plt.ylabel(\"loss function\", rotation=90, fontsize=18)\n",
    "plt.legend()\n",
    "plt.show()"
   ]
  },
  {
   "cell_type": "markdown",
   "metadata": {},
   "source": [
    "##### a. Test on a single word"
   ]
  },
  {
   "cell_type": "code",
   "execution_count": 10,
   "metadata": {},
   "outputs": [
    {
     "name": "stdout",
     "output_type": "stream",
     "text": [
      "Nearest neighbors of \"discuter\":\n",
      "0.7305 - talk\n",
      "0.7305 - talk\n",
      "0.7305 - talk\n",
      "0.7305 - talk\n",
      "0.7069 - discuss\n"
     ]
    }
   ],
   "source": [
    "# printing nearest neighbors in the target space\n",
    "#the word to test needs to be in the whole elements of words, otherwise it's impossible to find a translation\n",
    "word_to_test = words_test[2,0]\n",
    "get_nn_scores(embedding_model_source = ft_fr, word = word_to_test , words_data = words_test_full, tgt_emb = Y_test_full, W = W_opt_full_gd, K=5, epsilon = 1e-7)"
   ]
  },
  {
   "cell_type": "markdown",
   "metadata": {},
   "source": [
    "##### b. Test on a the whole test set"
   ]
  },
  {
   "cell_type": "code",
   "execution_count": 11,
   "metadata": {},
   "outputs": [
    {
     "name": "stdout",
     "output_type": "stream",
     "text": [
      "The P5 accuracy is 55.4 %\n"
     ]
    }
   ],
   "source": [
    "good_translation_5 = test_translation(embedding_model_source = ft_fr, words_test = words_test_full, tgt_emb = Y_test_full, W = W_opt_full_gd, limit=3000, K=5)\n",
    "accuracy_5 = np.sum(good_translation_5)/len(good_translation_5)*100\n",
    "print(f\"The P5 accuracy is {round(accuracy_5,2)} %\")"
   ]
  },
  {
   "cell_type": "code",
   "execution_count": 12,
   "metadata": {},
   "outputs": [
    {
     "name": "stdout",
     "output_type": "stream",
     "text": [
      "The P1 accuracy is 42.57 %\n"
     ]
    }
   ],
   "source": [
    "good_translation_1 =  test_translation(embedding_model_source = ft_fr, words_test = words_test_full, tgt_emb = Y_test_full, W = W_opt_full_gd, limit=3000, K=1)\n",
    "accuracy_1 = np.sum(good_translation_1)/len(good_translation_1)*100\n",
    "print(f\"The P1 accuracy is {round(accuracy_1,2)} %\")"
   ]
  },
  {
   "cell_type": "markdown",
   "metadata": {},
   "source": [
    "### 2. Gradient descent with Euler distance and no constraints (SGD)"
   ]
  },
  {
   "cell_type": "code",
   "execution_count": 13,
   "metadata": {},
   "outputs": [
    {
     "data": {
      "image/png": "[encoded data removed]",
      "text/plain": [
       "<Figure size 640x480 with 1 Axes>"
      ]
     },
     "metadata": {},
     "output_type": "display_data"
    }
   ],
   "source": [
    "nb_of_iterations = 10000\n",
    "step_size = 0.1\n",
    "\n",
    "W_opt_full_gd,iteration,loss_function_train_array_full_gd, loss_function_test_array_full_gd  = batch_gradient_descent(X_train_small,Y_train_small,X_test_small, Y_test_small, nb_of_iterations, step_size, batch_percentage=0.0001)\n",
    "\n",
    "plt.plot(iteration, loss_function_train_array_full_gd, label = \"train RMSE\")\n",
    "plt.plot(iteration, loss_function_test_array_full_gd, label = \"test RMSE\")\n",
    "plt.xlabel(\"iteration\", rotation=0, fontsize=18)\n",
    "plt.ylabel(\"loss function\", rotation=90, fontsize=18)\n",
    "plt.legend()\n",
    "plt.show()"
   ]
  },
  {
   "cell_type": "markdown",
   "metadata": {},
   "source": [
    "##### a. Test on a single word"
   ]
  },
  {
   "cell_type": "code",
   "execution_count": 14,
   "metadata": {},
   "outputs": [
    {
     "name": "stdout",
     "output_type": "stream",
     "text": [
      "Nearest neighbors of \"discuter\":\n",
      "0.6462 - talk\n",
      "0.6462 - talk\n",
      "0.6462 - talk\n",
      "0.6462 - talk\n",
      "0.5848 - discuss\n"
     ]
    }
   ],
   "source": [
    "# printing nearest neighbors in the target space\n",
    "#the word to test needs to be in the whole elements of words, otherwise it's impossible to find a translation\n",
    "word_to_test = words_test[2,0]\n",
    "get_nn_scores(embedding_model_source = ft_fr, word = word_to_test , words_data = words_test_full, tgt_emb = Y_test_full, W = W_opt_full_gd, K=5, epsilon = 1e-7)"
   ]
  },
  {
   "cell_type": "markdown",
   "metadata": {},
   "source": [
    "##### b. Test on the whole test set"
   ]
  },
  {
   "cell_type": "code",
   "execution_count": 15,
   "metadata": {},
   "outputs": [
    {
     "name": "stdout",
     "output_type": "stream",
     "text": [
      "The P5 accuracy is 46.73 %\n"
     ]
    }
   ],
   "source": [
    "good_translation_5 = test_translation(embedding_model_source = ft_fr, words_test = words_test_full, tgt_emb = Y_test_full, W = W_opt_full_gd, limit=3000, K=5)\n",
    "accuracy_5 = np.sum(good_translation_5)/len(good_translation_5)*100\n",
    "print(f\"The P5 accuracy is {round(accuracy_5,2)} %\")"
   ]
  },
  {
   "cell_type": "code",
   "execution_count": 16,
   "metadata": {},
   "outputs": [
    {
     "name": "stdout",
     "output_type": "stream",
     "text": [
      "The P1 accuracy is 35.33 %\n"
     ]
    }
   ],
   "source": [
    "good_translation_1 =  test_translation(embedding_model_source = ft_fr, words_test = words_test_full, tgt_emb = Y_test_full, W = W_opt_full_gd, limit=3000, K=1)\n",
    "accuracy_1 = np.sum(good_translation_1)/len(good_translation_1)*100\n",
    "print(f\"The P1 accuracy is {round(accuracy_1,2)} %\")"
   ]
  }
 ],
 "metadata": {
  "kernelspec": {
   "display_name": "Python 3.10.6 ('Translation_IASD')",
   "language": "python",
   "name": "python3"
  },
  "language_info": {
   "codemirror_mode": {
    "name": "ipython",
    "version": 3
   },
   "file_extension": ".py",
   "mimetype": "text/x-python",
   "name": "python",
   "nbconvert_exporter": "python",
   "pygments_lexer": "ipython3",
   "version": "3.10.6"
  },
  "orig_nbformat": 4,
  "vscode": {
   "interpreter": {
    "hash": "97641f51a297a5adc8719a3c4d2cc0d9720a43234e24b87271c99a688e3b673b"
   }
  }
 },
 "nbformat": 4,
 "nbformat_minor": 2
}
